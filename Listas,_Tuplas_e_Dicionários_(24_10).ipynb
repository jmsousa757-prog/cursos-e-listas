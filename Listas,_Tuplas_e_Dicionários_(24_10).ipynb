{
  "nbformat": 4,
  "nbformat_minor": 0,
  "metadata": {
    "colab": {
      "provenance": [],
      "authorship_tag": "ABX9TyPGy7GyS3z24jIl1UQttr72",
      "include_colab_link": true
    },
    "kernelspec": {
      "name": "python3",
      "display_name": "Python 3"
    },
    "language_info": {
      "name": "python"
    }
  },
  "cells": [
    {
      "cell_type": "markdown",
      "metadata": {
        "id": "view-in-github",
        "colab_type": "text"
      },
      "source": [
        "<a href=\"https://colab.research.google.com/github/jmsousa757-prog/cursos-e-listas/blob/main/Listas%2C_Tuplas_e_Dicion%C3%A1rios_(24_10).ipynb\" target=\"_parent\"><img src=\"https://colab.research.google.com/assets/colab-badge.svg\" alt=\"Open In Colab\"/></a>"
      ]
    },
    {
      "cell_type": "code",
      "execution_count": 1,
      "metadata": {
        "colab": {
          "base_uri": "https://localhost:8080/"
        },
        "id": "2pyL94xr2nnC",
        "outputId": "7e86dc56-ad0e-48eb-8da1-0fc155ab1383"
      },
      "outputs": [
        {
          "output_type": "stream",
          "name": "stdout",
          "text": [
            "Digite o 1º número inteiro: 5\n",
            "Digite o 2º número inteiro: 6\n",
            "Digite o 3º número inteiro: 3\n",
            "Digite o 4º número inteiro: 5\n",
            "Digite o 5º número inteiro: 6\n",
            "A lista com os números digitados é: [5, 6, 3, 5, 6]\n"
          ]
        }
      ],
      "source": [
        "\n",
        "numeros = []\n",
        "\n",
        "\n",
        "for i in range(5):\n",
        "    numero = int(input(f\"Digite o {i+1}º número inteiro: \"))\n",
        "    numeros.append(numero)\n",
        "\n",
        "\n",
        "print(\"A lista com os números digitados é:\", numeros)\n"
      ]
    },
    {
      "cell_type": "code",
      "source": [
        "\n",
        "numeros = [-5, 3, -8, 2, -1]\n",
        "\n",
        "\n",
        "modulos = [abs(num) for num in numeros]\n",
        "\n",
        "\n",
        "print(\"Lista original:\", numeros)\n",
        "print(\"Lista com módulo aplicado:\", modulos)\n"
      ],
      "metadata": {
        "colab": {
          "base_uri": "https://localhost:8080/"
        },
        "id": "-bYo_c_J3p1Q",
        "outputId": "e00abe1e-2b88-4e28-ab0e-78005bfa61dc"
      },
      "execution_count": 2,
      "outputs": [
        {
          "output_type": "stream",
          "name": "stdout",
          "text": [
            "Lista original: [-5, 3, -8, 2, -1]\n",
            "Lista com módulo aplicado: [5, 3, 8, 2, 1]\n"
          ]
        }
      ]
    },
    {
      "cell_type": "code",
      "source": [
        "\n",
        "numeros = [-5, 3, -8, 2, -1, 7, 0]\n",
        "\n",
        "\n",
        "positivos = [num for num in numeros if num >= 0]\n",
        "\n",
        "\n",
        "print(\"Lista original:\", numeros)\n",
        "print(\"Lista sem números negativos:\", positivos)\n"
      ],
      "metadata": {
        "colab": {
          "base_uri": "https://localhost:8080/"
        },
        "id": "hiQ9zgVg3zA3",
        "outputId": "0ccf9070-efc0-4ecd-da7d-43c455e8716c"
      },
      "execution_count": 3,
      "outputs": [
        {
          "output_type": "stream",
          "name": "stdout",
          "text": [
            "Lista original: [-5, 3, -8, 2, -1, 7, 0]\n",
            "Lista sem números negativos: [3, 2, 7, 0]\n"
          ]
        }
      ]
    },
    {
      "cell_type": "code",
      "source": [
        "\n",
        "notas = []\n",
        "\n",
        "while True:\n",
        "    nota = float(input(\"Digite uma nota (ou um número negativo para parar): \"))\n",
        "\n",
        "\n",
        "    if nota < 0:\n",
        "        break\n",
        "\n",
        "\n",
        "    notas.append(nota)\n",
        "\n",
        "\n",
        "if len(notas) > 0:\n",
        "    media = sum(notas) / len(notas)\n",
        "    print(f\"As notas digitadas foram: {notas}\")\n",
        "    print(f\"A média das notas é: {media:.2f}\")\n",
        "else:\n",
        "    print(\"Nenhuma nota válida foi digitada.\")\n"
      ],
      "metadata": {
        "colab": {
          "base_uri": "https://localhost:8080/"
        },
        "id": "pgowhMqF38GP",
        "outputId": "230113a5-6dd6-4d5e-baf2-f84f86a5f23c"
      },
      "execution_count": 5,
      "outputs": [
        {
          "output_type": "stream",
          "name": "stdout",
          "text": [
            "Digite uma nota (ou um número negativo para parar): 5\n",
            "Digite uma nota (ou um número negativo para parar): 5\n",
            "Digite uma nota (ou um número negativo para parar): 5\n",
            "Digite uma nota (ou um número negativo para parar): 5\n",
            "Digite uma nota (ou um número negativo para parar): 5\n",
            "Digite uma nota (ou um número negativo para parar): 5\n",
            "Digite uma nota (ou um número negativo para parar): 0\n",
            "Digite uma nota (ou um número negativo para parar): -6\n",
            "As notas digitadas foram: [5.0, 5.0, 5.0, 5.0, 5.0, 5.0, 0.0]\n",
            "A média das notas é: 4.29\n"
          ]
        }
      ]
    },
    {
      "cell_type": "code",
      "source": [
        "\n",
        "\n",
        "numeros_pares = []\n",
        "numeros_impares = []\n",
        "\n",
        "print(\"Digite uma sequência de números positivos.\")\n",
        "print(\"Para parar, digite um número negativo.\")\n",
        "\n",
        "while True:\n",
        "    try:\n",
        "        numero = int(input(\"Digite um número: \"))\n",
        "\n",
        "        if numero < 0:\n",
        "            break\n",
        "\n",
        "        if numero % 2 == 0:\n",
        "            numeros_pares.append(numero)\n",
        "        else:\n",
        "            numeros_impares.append(numero)\n",
        "\n",
        "    except ValueError:\n",
        "        print(\"Entrada inválida. Por favor, digite um número inteiro.\")\n",
        "\n",
        "if not numeros_pares and not numeros_impares:\n",
        "    print(\"\\nNenhum número positivo foi digitado.\")\n",
        "else:\n",
        "    total_numeros = len(numeros_pares) + len(numeros_impares)\n",
        "\n",
        "    porcentagem_pares = (len(numeros_pares) / total_numeros) * 100\n",
        "    porcentagem_impares = (len(numeros_impares) / total_numeros) * 100\n",
        "\n",
        "    print(\"\\n--- Resultados ---\")\n",
        "    print(f\"Números pares digitados: {len(numeros_pares)}\")\n",
        "    print(f\"Números ímpares digitados: {len(numeros_impares)}\")\n",
        "    print(f\"Total de números positivos digitados: {total_numeros}\")\n",
        "    print(f\"Porcentagem de pares: {porcentagem_pares:.2f}%\")\n",
        "    print(f\"Porcentagem de ímpares: {porcentagem_impares:.2f}%\")\n",
        "\n"
      ],
      "metadata": {
        "colab": {
          "base_uri": "https://localhost:8080/"
        },
        "id": "eMCxjolu4G0g",
        "outputId": "0343c894-207a-4339-e3a4-0dc694d7e73d"
      },
      "execution_count": 6,
      "outputs": [
        {
          "output_type": "stream",
          "name": "stdout",
          "text": [
            "Digite uma sequência de números positivos.\n",
            "Para parar, digite um número negativo.\n",
            "Digite um número: 8\n",
            "Digite um número: 8\n",
            "Digite um número: 8\n",
            "Digite um número: 8\n",
            "Digite um número: 8\n",
            "Digite um número: 6\n",
            "Digite um número: 6\n",
            "Digite um número: 6\n",
            "Digite um número: 5\n",
            "Digite um número: 5\n",
            "Digite um número: 3\n",
            "Digite um número: 3\n",
            "Digite um número: 3\n",
            "Digite um número: -6\n",
            "\n",
            "--- Resultados ---\n",
            "Números pares digitados: 8\n",
            "Números ímpares digitados: 5\n",
            "Total de números positivos digitados: 13\n",
            "Porcentagem de pares: 61.54%\n",
            "Porcentagem de ímpares: 38.46%\n"
          ]
        }
      ]
    },
    {
      "cell_type": "code",
      "source": [
        "\n",
        "numeros_digitados = []\n",
        "\n",
        "print(\"Digite uma sequência de números positivos.\")\n",
        "print(\"Para parar, digite um número negativo.\")\n",
        "\n",
        "while True:\n",
        "    try:\n",
        "        numero = int(input(\"Digite um número: \"))\n",
        "\n",
        "        if numero < 0:\n",
        "            break\n",
        "\n",
        "        if numero >= 0 and numero not in numeros_digitados:\n",
        "            numeros_digitados.append(numero)\n",
        "\n",
        "    except ValueError:\n",
        "        print(\"Entrada inválida. Por favor, digite um número inteiro.\")\n",
        "\n",
        "if numeros_digitados:\n",
        "    print(\"\\n--- Resultado ---\")\n",
        "    print(f\"Números únicos digitados: {numeros_digitados}\")\n",
        "else:\n",
        "    print(\"\\nNenhum número positivo foi digitado.\")\n"
      ],
      "metadata": {
        "colab": {
          "base_uri": "https://localhost:8080/"
        },
        "id": "atDKBbpm4yFS",
        "outputId": "7961ad15-712a-4630-b2b7-a5e0ef8c939a"
      },
      "execution_count": 7,
      "outputs": [
        {
          "output_type": "stream",
          "name": "stdout",
          "text": [
            "Digite uma sequência de números positivos.\n",
            "Para parar, digite um número negativo.\n",
            "Digite um número: 5\n",
            "Digite um número: 54\n",
            "Digite um número: 5\n",
            "Digite um número: 5\n",
            "Digite um número: 5\n",
            "Digite um número: 56\n",
            "Digite um número: 6\n",
            "Digite um número: 66\n",
            "Digite um número: 3\n",
            "Digite um número: -9\n",
            "\n",
            "--- Resultado ---\n",
            "Números únicos digitados: [5, 54, 56, 6, 66, 3]\n"
          ]
        }
      ]
    },
    {
      "cell_type": "code",
      "source": [
        "\n",
        "alturas = []\n",
        "pesos = []\n",
        "\n",
        "for i in range(5):\n",
        "    try:\n",
        "        altura = float(input(f\"Digite a altura da pessoa {i+1} (ex: 1.75): \"))\n",
        "        peso = float(input(f\"Digite o peso da pessoa {i+1} (ex: 70.5): \"))\n",
        "\n",
        "        alturas.append(altura)\n",
        "        pesos.append(peso)\n",
        "\n",
        "    except ValueError:\n",
        "        print(\"Entrada inválida. Por favor, digite um número.\")\n",
        "        i -= 1\n",
        "\n",
        "mesmo_par_encontrado = False\n",
        "\n",
        "for i in range(5):\n",
        "    for j in range(i + 1, 5):\n",
        "        if alturas[i] == alturas[j] and pesos[i] == pesos[j]:\n",
        "            print(f\"\\nVerificação concluída: Pelo menos duas pessoas (a {i+1} e a {j+1}) têm a mesma altura e o mesmo peso.\")\n",
        "            mesmo_par_encontrado = True\n",
        "            break\n",
        "\n",
        "    if mesmo_par_encontrado:\n",
        "        break\n",
        "\n",
        "if not mesmo_par_encontrado:\n",
        "    print(\"\\nVerificação concluída: Nenhuma pessoa tem a mesma altura e o mesmo peso que outra.\")\n"
      ],
      "metadata": {
        "colab": {
          "base_uri": "https://localhost:8080/"
        },
        "id": "aMrpygZ24-bK",
        "outputId": "13d87469-9ce5-4a04-c049-22102ef90641"
      },
      "execution_count": 8,
      "outputs": [
        {
          "output_type": "stream",
          "name": "stdout",
          "text": [
            "Digite a altura da pessoa 1 (ex: 1.75): 180\n",
            "Digite o peso da pessoa 1 (ex: 70.5): 70\n",
            "Digite a altura da pessoa 2 (ex: 1.75): 156\n",
            "Digite o peso da pessoa 2 (ex: 70.5): 90\n",
            "Digite a altura da pessoa 3 (ex: 1.75): 186\n",
            "Digite o peso da pessoa 3 (ex: 70.5): 85\n",
            "Digite a altura da pessoa 4 (ex: 1.75): 166\n",
            "Digite o peso da pessoa 4 (ex: 70.5): 66\n",
            "Digite a altura da pessoa 5 (ex: 1.75): 155\n",
            "Digite o peso da pessoa 5 (ex: 70.5): 88\n",
            "\n",
            "Verificação concluída: Nenhuma pessoa tem a mesma altura e o mesmo peso que outra.\n"
          ]
        }
      ]
    },
    {
      "cell_type": "code",
      "source": [
        "\n",
        "nome_mais_velho = \"\"\n",
        "idade_maxima = -1\n",
        "\n",
        "print(\"Digite o nome e a idade de diversas pessoas.\")\n",
        "print(\"Para parar, digite um nome vazio (pressione Enter sem digitar nada).\")\n",
        "\n",
        "while True:\n",
        "    nome = input(\"\\nDigite o nome: \").strip()\n",
        "    if not nome:\n",
        "        break\n",
        "\n",
        "    try:\n",
        "        idade = int(input(f\"Digite a idade de {nome}: \"))\n",
        "\n",
        "        if idade > idade_maxima:\n",
        "            idade_maxima = idade\n",
        "            nome_mais_velho = nome\n",
        "\n",
        "    except ValueError:\n",
        "        print(\"Entrada inválida para a idade. Por favor, digite um número inteiro.\")\n",
        "\n",
        "if nome_mais_velho:\n",
        "    print(\"\\n--- Resultado ---\")\n",
        "    print(f\"A pessoa mais velha é: {nome_mais_velho} com {idade_maxima} anos.\")\n",
        "else:\n",
        "    print(\"\\nNenhum nome foi digitado.\")\n"
      ],
      "metadata": {
        "colab": {
          "base_uri": "https://localhost:8080/"
        },
        "id": "1ia6vdqM5dcy",
        "outputId": "d731891f-d68e-4b2c-9bc0-d430b67f0e0b"
      },
      "execution_count": 10,
      "outputs": [
        {
          "output_type": "stream",
          "name": "stdout",
          "text": [
            "Digite o nome e a idade de diversas pessoas.\n",
            "Para parar, digite um nome vazio (pressione Enter sem digitar nada).\n",
            "\n",
            "Digite o nome: joao\n",
            "Digite a idade de joao: 20\n",
            "\n",
            "Digite o nome: miguel\n",
            "Digite a idade de miguel: 12\n",
            "\n",
            "Digite o nome: \n",
            "\n",
            "--- Resultado ---\n",
            "A pessoa mais velha é: joao com 20 anos.\n"
          ]
        }
      ]
    },
    {
      "cell_type": "code",
      "source": [
        "alunos = {\n",
        "    \"Alice\": 8.5,\n",
        "    \"Bruno\": 7.8,\n",
        "    \"Carla\": 9.2,\n",
        "    \"Diego\": 6.9,\n",
        "    \"Eva\": 8.0,\n",
        "    \"Fernando\": 7.5,\n",
        "    \"Gabriela\": 9.0,\n",
        "    \"Henrique\": 6.7,\n",
        "    \"Isabela\": 8.3,\n",
        "    \"João\": 7.2\n",
        "}\n",
        "\n",
        "numero_de_alunos = len(alunos)\n",
        "\n",
        "tirou_nota_zero = 0.0 in alunos.values()\n",
        "\n",
        "menor_nota = min(alunos.values())\n",
        "\n",
        "maior_nota = max(alunos.values())\n",
        "\n",
        "print(\"--- Resultado da Tarefa 1 ---\")\n",
        "print(f\"Quantos alunos existem? {numero_de_alunos}\")\n",
        "print(f\"Alguém tirou nota zero? {tirou_nota_zero}\")\n",
        "print(f\"Qual foi a menor nota? {menor_nota}\")\n",
        "print(f\"Qual foi a maior nota? {maior_nota}\")\n"
      ],
      "metadata": {
        "colab": {
          "base_uri": "https://localhost:8080/"
        },
        "id": "fZ7XCsyC6FJb",
        "outputId": "f7aa0ae1-3c2f-4d48-adf1-be44140cf95a"
      },
      "execution_count": 11,
      "outputs": [
        {
          "output_type": "stream",
          "name": "stdout",
          "text": [
            "--- Resultado da Tarefa 1 ---\n",
            "Quantos alunos existem? 10\n",
            "Alguém tirou nota zero? False\n",
            "Qual foi a menor nota? 6.7\n",
            "Qual foi a maior nota? 9.2\n"
          ]
        }
      ]
    },
    {
      "cell_type": "code",
      "source": [
        "animes = {\n",
        "    \"Naruto\": 220,\n",
        "    \"Jujutsu Kaisen\": 47,\n",
        "    \"Dragon Ball Z\": 291,\n",
        "    \"Death Note\": 37,\n",
        "    \"Fullmetal Alchemist\": 64,\n",
        "    \"Evangelion\": 26,\n",
        "    \"Berserk\": 25,\n",
        "    \"Code Geass\": 50,\n",
        "    \"Akame ga Kill!\": 24,\n",
        "    \"Elfen Lied\": 13\n",
        "}\n",
        "\n",
        "total_episodios = sum(animes.values())\n",
        "print(f\"Total de episódios de todos os animes: {total_episodios}\\n\")\n",
        "\n",
        "animes_percentuais = {}\n",
        "for nome, episodios in animes.items():\n",
        "    percentual = (episodios / total_episodios) * 100\n",
        "    animes_percentuais[nome] = percentual\n",
        "\n",
        "print(\"Nome e percentual de episódios (em ordem decrescente):\")\n",
        "\n",
        "animes_ordenados = sorted(animes_percentuais.items(), key=lambda item: item[1], reverse=True)\n",
        "\n",
        "for nome, percentual in animes_ordenados:\n",
        "    print(f\"- {nome}: {percentual:.2f}%\")\n"
      ],
      "metadata": {
        "colab": {
          "base_uri": "https://localhost:8080/"
        },
        "id": "c-XaTa0s6Sra",
        "outputId": "a87f7dad-b86c-4c21-d2d5-7411dc22149e"
      },
      "execution_count": 12,
      "outputs": [
        {
          "output_type": "stream",
          "name": "stdout",
          "text": [
            "Total de episódios de todos os animes: 797\n",
            "\n",
            "Nome e percentual de episódios (em ordem decrescente):\n",
            "- Dragon Ball Z: 36.51%\n",
            "- Naruto: 27.60%\n",
            "- Fullmetal Alchemist: 8.03%\n",
            "- Code Geass: 6.27%\n",
            "- Jujutsu Kaisen: 5.90%\n",
            "- Death Note: 4.64%\n",
            "- Evangelion: 3.26%\n",
            "- Berserk: 3.14%\n",
            "- Akame ga Kill!: 3.01%\n",
            "- Elfen Lied: 1.63%\n"
          ]
        }
      ]
    },
    {
      "cell_type": "code",
      "source": [
        "# Dados do dicionário\n",
        "bandas = {\n",
        "    \"Gangrena Gasosa\": [\n",
        "        {\"álbum\": \"Gente Ruim Só Manda Lembrança Pra Quem Não Presta\", \"ano\": 2019},\n",
        "        {\"álbum\": \"Se Deus É 10, Satanás É 666\", \"ano\": 1999},\n",
        "        {\"álbum\": \"Welcome to the Macumba\", \"ano\": 1993}\n",
        "    ],\n",
        "    \"Rogério Skylab\": [\n",
        "        {\"álbum\": \"Nas Portas do Cu\", \"ano\": 2023},\n",
        "        {\"álbum\": \"Crítica da Faculdade do Cu\", \"ano\": 2021},\n",
        "        {\"álbum\": \"Cosmos\", \"ano\": 2019}\n",
        "    ],\n",
        "    \"Garotos Podres\": [\n",
        "        {\"álbum\": \"Canções para Ninar\", \"ano\": 2003},\n",
        "        {\"álbum\": \"Com a Corda Toda\", \"ano\": 1997},\n",
        "        {\"álbum\": \"Rock de Subúrbio\", \"ano\": 1995}\n",
        "    ],\n",
        "    \"Massacration\": [\n",
        "        {\"álbum\": \"Live Metal Espancation\", \"ano\": 2017},\n",
        "        {\"álbum\": \"Good Blood Headbanguers\", \"ano\": 2009},\n",
        "        {\"álbum\": \"Gates of Metal Fried Chicken of Death\", \"ano\": 2005}\n",
        "    ],\n",
        "    \"Raimundos\": [\n",
        "        {\"álbum\": \"Cantigas de Roda\", \"ano\": 2014},\n",
        "        {\"álbum\": \"Roda Viva\", \"ano\": 2006}\n",
        "    ]\n",
        "}\n",
        "\n",
        "album_mais_antigo = \"\"\n",
        "ano_mais_antigo = float('inf')\n",
        "banda_album_mais_antigo = \"\"\n",
        "\n",
        "for banda, albuns_lista in bandas.items():\n",
        "    for album in albuns_lista:\n",
        "        if album[\"ano\"] < ano_mais_antigo:\n",
        "            ano_mais_antigo = album[\"ano\"]\n",
        "            album_mais_antigo = album[\"álbum\"]\n",
        "            banda_album_mais_antigo = banda\n",
        "\n",
        "print(f\"O álbum mais antigo é: '{album_mais_antigo}' da banda {banda_album_mais_antigo}, lançado em {ano_mais_antigo}\\n\")\n",
        "\n"
      ],
      "metadata": {
        "colab": {
          "base_uri": "https://localhost:8080/"
        },
        "id": "EbX60qrG62_j",
        "outputId": "5d146dd2-15ac-433b-e1e7-6dd77d21e036"
      },
      "execution_count": 13,
      "outputs": [
        {
          "output_type": "stream",
          "name": "stdout",
          "text": [
            "O álbum mais antigo é: 'Welcome to the Macumba' da banda Gangrena Gasosa, lançado em 1993\n",
            "\n"
          ]
        }
      ]
    },
    {
      "cell_type": "code",
      "source": [
        "maior_intervalo = -1\n",
        "banda_maior_intervalo = \"\"\n",
        "\n",
        "for banda, albuns_lista in bandas.items():\n",
        "    if len(albuns_lista) > 1:\n",
        "        anos_albuns = [album[\"ano\"] for album in albuns_lista]\n",
        "\n",
        "        ano_mais_recente = max(anos_albuns)\n",
        "        ano_mais_antigo = min(anos_albuns)\n",
        "\n",
        "        intervalo = ano_mais_recente - ano_mais_antigo\n",
        "\n",
        "        if intervalo > maior_intervalo:\n",
        "            maior_intervalo = intervalo\n",
        "            banda_maior_intervalo = banda\n",
        "\n",
        "print(f\"A banda com o maior intervalo entre os álbuns é: {banda_maior_intervalo} ({maior_intervalo} anos)\\n\")\n",
        "\n"
      ],
      "metadata": {
        "colab": {
          "base_uri": "https://localhost:8080/"
        },
        "id": "0PrEkq-u68UN",
        "outputId": "9e2a559b-b923-4b44-c998-8a193d4994db"
      },
      "execution_count": 14,
      "outputs": [
        {
          "output_type": "stream",
          "name": "stdout",
          "text": [
            "A banda com o maior intervalo entre os álbuns é: Gangrena Gasosa (26 anos)\n",
            "\n"
          ]
        }
      ]
    },
    {
      "cell_type": "code",
      "source": [
        "todos_os_albuns = []\n",
        "\n",
        "for banda, albuns_lista in bandas.items():\n",
        "    for album in albuns_lista:\n",
        "        album_completo = {\n",
        "            \"banda\": banda,\n",
        "            \"álbum\": album[\"álbum\"],\n",
        "            \"ano\": album[\"ano\"]\n",
        "        }\n",
        "        todos_os_albuns.append(album_completo)\n",
        "\n",
        "albuns_ordenados = sorted(todos_os_albuns, key=lambda item: item['ano'], reverse=True)\n",
        "\n",
        "print(\"Todos os álbuns, do mais novo para o mais antigo:\")\n",
        "for album in albuns_ordenados:\n",
        "    print(f\"- {album['álbum']} ({album['ano']}) - Banda: {album['banda']}\")\n"
      ],
      "metadata": {
        "colab": {
          "base_uri": "https://localhost:8080/"
        },
        "id": "b-2LI6KU6_a0",
        "outputId": "906638ab-81d9-4350-aa3d-8840c7af5152"
      },
      "execution_count": 15,
      "outputs": [
        {
          "output_type": "stream",
          "name": "stdout",
          "text": [
            "Todos os álbuns, do mais novo para o mais antigo:\n",
            "- Nas Portas do Cu (2023) - Banda: Rogério Skylab\n",
            "- Crítica da Faculdade do Cu (2021) - Banda: Rogério Skylab\n",
            "- Gente Ruim Só Manda Lembrança Pra Quem Não Presta (2019) - Banda: Gangrena Gasosa\n",
            "- Cosmos (2019) - Banda: Rogério Skylab\n",
            "- Live Metal Espancation (2017) - Banda: Massacration\n",
            "- Cantigas de Roda (2014) - Banda: Raimundos\n",
            "- Good Blood Headbanguers (2009) - Banda: Massacration\n",
            "- Roda Viva (2006) - Banda: Raimundos\n",
            "- Gates of Metal Fried Chicken of Death (2005) - Banda: Massacration\n",
            "- Canções para Ninar (2003) - Banda: Garotos Podres\n",
            "- Se Deus É 10, Satanás É 666 (1999) - Banda: Gangrena Gasosa\n",
            "- Com a Corda Toda (1997) - Banda: Garotos Podres\n",
            "- Rock de Subúrbio (1995) - Banda: Garotos Podres\n",
            "- Welcome to the Macumba (1993) - Banda: Gangrena Gasosa\n"
          ]
        }
      ]
    }
  ]
}