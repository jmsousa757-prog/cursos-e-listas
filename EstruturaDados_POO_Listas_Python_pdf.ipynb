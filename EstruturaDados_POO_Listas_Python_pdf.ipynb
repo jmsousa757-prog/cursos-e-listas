{
  "nbformat": 4,
  "nbformat_minor": 0,
  "metadata": {
    "colab": {
      "provenance": [],
      "authorship_tag": "ABX9TyNYNmKyi8FJhVeP7mWX1SKD",
      "include_colab_link": true
    },
    "kernelspec": {
      "name": "python3",
      "display_name": "Python 3"
    },
    "language_info": {
      "name": "python"
    }
  },
  "cells": [
    {
      "cell_type": "markdown",
      "metadata": {
        "id": "view-in-github",
        "colab_type": "text"
      },
      "source": [
        "<a href=\"https://colab.research.google.com/github/jmsousa757-prog/cursos-e-listas/blob/main/EstruturaDados_POO_Listas_Python_pdf.ipynb\" target=\"_parent\"><img src=\"https://colab.research.google.com/assets/colab-badge.svg\" alt=\"Open In Colab\"/></a>"
      ]
    },
    {
      "cell_type": "code",
      "execution_count": 3,
      "metadata": {
        "colab": {
          "base_uri": "https://localhost:8080/"
        },
        "id": "PHp0sm5HzODa",
        "outputId": "2fcf4ba4-a3c1-465b-c5e1-e6754d081768"
      },
      "outputs": [
        {
          "output_type": "stream",
          "name": "stdout",
          "text": [
            "Digite um número: 6\n",
            "1 \n",
            "1 2 \n",
            "1 2 3 \n",
            "1 2 3 4 \n",
            "1 2 3 4 5 \n",
            "1 2 3 4 5 6 \n"
          ]
        }
      ],
      "source": [
        "n = int(input(\"Digite um número: \"))\n",
        "\n",
        "for i in range(1, n + 1):\n",
        "    for j in range(1, i + 1):\n",
        "        print(j, end=\" \")\n",
        "    print()\n"
      ]
    },
    {
      "cell_type": "code",
      "source": [
        "\n",
        "n = int(input(\"Quantas notas você vai digitar? \"))\n",
        "\n",
        "notas = []\n",
        "\n",
        "\n",
        "for i in range(n):\n",
        "    nota = float(input(f\"Digite a {i+1}ª nota: \"))\n",
        "    notas.append(nota)\n",
        "\n",
        "\n",
        "print(\"\\nNotas digitadas:\")\n",
        "for nota in notas:\n",
        "    print(nota, end=\" \")\n",
        "\n",
        "\n",
        "media = sum(notas) / n\n",
        "print(f\"\\nMédia das notas: {media:.2f}\")\n"
      ],
      "metadata": {
        "colab": {
          "base_uri": "https://localhost:8080/"
        },
        "id": "D848MxiuzuHS",
        "outputId": "6f3b1949-6910-4e7b-93cf-f06a34ad9d91"
      },
      "execution_count": 5,
      "outputs": [
        {
          "output_type": "stream",
          "name": "stdout",
          "text": [
            "Quantas notas você vai digitar? 3\n",
            "Digite a 1ª nota: 5\n",
            "Digite a 2ª nota: 5\n",
            "Digite a 3ª nota: 5\n",
            "\n",
            "Notas digitadas:\n",
            "5.0 5.0 5.0 \n",
            "Média das notas: 5.00\n"
          ]
        }
      ]
    },
    {
      "cell_type": "code",
      "source": [
        "\n",
        "lista1 = []\n",
        "print(\"Digite 5 números para a primeira lista:\")\n",
        "for i in range(5):\n",
        "    num = int(input(f\"Número {i+1}: \"))\n",
        "    lista1.append(num)\n",
        "\n",
        "\n",
        "lista2 = []\n",
        "print(\"\\nDigite 5 números para a segunda lista:\")\n",
        "for i in range(5):\n",
        "    num = int(input(f\"Número {i+1}: \"))\n",
        "    lista2.append(num)\n",
        "\n",
        "\n",
        "comuns = []\n",
        "\n",
        "for num in lista2:\n",
        "    if num in lista1 and num not in comuns:\n",
        "        comuns.append(num)\n",
        " 8\n",
        "if len(comuns) == 0:\n",
        "    print(\"\\nNão há elementos em comum entre as listas.\")\n",
        "else:\n",
        "    print(\"\\nElementos em comum:\", comuns)\n"
      ],
      "metadata": {
        "colab": {
          "base_uri": "https://localhost:8080/"
        },
        "id": "3Hr_GFtUz4o6",
        "outputId": "08547bc9-0070-4816-968c-aac6ba459465"
      },
      "execution_count": 6,
      "outputs": [
        {
          "output_type": "stream",
          "name": "stdout",
          "text": [
            "Digite 5 números para a primeira lista:\n",
            "Número 1: 12345\n",
            "Número 2: 6789\n",
            "Número 3: 101112\n",
            "Número 4: 88888\n",
            "Número 5: 88888\n",
            "\n",
            "Digite 5 números para a segunda lista:\n",
            "Número 1: 88888\n",
            "Número 2: 88888\n",
            "Número 3: 8888\n",
            "Número 4: 88888\n",
            "Número 5: 88888\n",
            "\n",
            "Elementos em comum: [88888]\n"
          ]
        }
      ]
    }
  ]
}